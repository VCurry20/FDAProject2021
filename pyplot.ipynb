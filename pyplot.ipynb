{
 "cells": [
  {
   "cell_type": "markdown",
   "id": "01b87f9b",
   "metadata": {},
   "source": [
    "# Matplotlib"
   ]
  },
  {
   "cell_type": "markdown",
   "id": "e72deeed",
   "metadata": {},
   "source": [
    "Details from the Brief are as follows - including percentage weight:\n",
    "\n",
    "- clear and concise overview of matplotlib.pyplot package - pitched at classmats 15%\n",
    "\n",
    "- An indept explaination of three interesting plots from the matplotlib.pyplot python package. 25%\n",
    "\n",
    "***\n",
    "\n",
    "Offical Documentation:\n",
    "> https://matplotlib.org/\n"
   ]
  },
  {
   "cell_type": "markdown",
   "id": "f66c8093",
   "metadata": {},
   "source": [
    "****\n",
    "\n",
    "This is a Jupyter Notebook providing an overview of Matplotlib.pyplot, focusing on three plots:\n",
    "\n",
    "<br>\n",
    "\n",
    "\n",
    "> Outline of Matplotlib.pyplot\n",
    " \n",
    "\n",
    "> Bar Plot\n",
    "  \n",
    "> Scatter Plot\n",
    "  \n",
    "> 3D Plot  --- ADDITIONAL TO PYPLOT?? sO CAN THIS BE USED?\n",
    "\n",
    "  \n",
    "****"
   ]
  },
  {
   "cell_type": "markdown",
   "id": "8c759c0f",
   "metadata": {},
   "source": [
    "****\n",
    "\n",
    "## Matplotlib\n",
    "\n",
    "***"
   ]
  },
  {
   "cell_type": "markdown",
   "id": "638e9029",
   "metadata": {},
   "source": [
    "### Overview"
   ]
  },
  {
   "cell_type": "markdown",
   "id": "ebf0dda9",
   "metadata": {},
   "source": [
    "<div class=\"alert alert-block alert-info\">\n",
    "<b>Code:</b> import matplotlib.pyplot as plt\n",
    "\n",
    "</div>"
   ]
  },
  {
   "cell_type": "markdown",
   "id": "0a2f4b38-9aef-47d1-a907-847ca22c7f2a",
   "metadata": {},
   "source": [
    "  Matplotlib is at its most basic:\n",
    "  \n",
    "      \"A plotting library for the Python programming language and its numerical mathematics extension NumPy.\" [1]\n",
    "      \n",
    "<br>"
   ]
  },
  {
   "cell_type": "markdown",
   "id": "01295818",
   "metadata": {},
   "source": [
    "Matplotlib allows users to output their numerical data in plots or visualisations.\n",
    "\n",
    "It is an \"object-oriented\" application, it operates on the premise that objects contain data and with code we can complete procedures on these objects. [1][2]\n",
    "\n",
    "It is inspired by MATLAB, and is mathematical in nature, it allows used to plot data along axis for example, show probability distributions etc. In using Matplotlib you will be using mathematical terminology to produce visual outputs of mathematical data. [3]\n",
    "\n",
    "Matplotlib is notpart of the standard python library and needs to be imported.\n"
   ]
  },
  {
   "cell_type": "markdown",
   "id": "73ec5615",
   "metadata": {},
   "source": [
    "<div class=\"alert alert-block alert-info\">\n",
    "<b>Code:</b> import numpy as np\n",
    "\n",
    "</div>"
   ]
  },
  {
   "cell_type": "markdown",
   "id": "39c12260",
   "metadata": {},
   "source": [
    "Matplotlib operates on Numpy.\n",
    "\n",
    "NumPy is numerical Python, it allows its user to perform mathematical problems quickly, and efficiently. It uses arrays and can easily produce random data. [4][5]\n",
    "\n",
    "NumPy is the fundamental numerical library for Python, built on top of this library are additionl addins that allow users to work with different data structures and also plot data. [6]\n",
    "\n",
    "It is from the NumPy package that we produce the numerical data which we can then use Matplotlib to plot. [4][5]"
   ]
  },
  {
   "cell_type": "markdown",
   "id": "d394e3ad",
   "metadata": {},
   "source": [
    "Matplotlib is the beginning point for plotting librarys. \n",
    "\n",
    "Matplotlib can plot data from NumPy, as well as the additional libraries which operate on top of NumPy; Pandas and from Scipy. \n",
    "\n",
    "From Matplotlib you can also work with seaborn. [7] Seaborn offers additional plotting functionality.\n"
   ]
  },
  {
   "cell_type": "markdown",
   "id": "097511f9",
   "metadata": {},
   "source": [
    "Note:\n",
    "\n",
    "Pandas is an additional numerical library which operates on top of Numpy, and is used for Data Analysis. Pandas simplifies many data Analysis processes such as merging and analysis. [8]\n",
    "\n",
    "Scipy is also an additional library, this is used for solving mathematical problems - with functions for statistics and algebra. [9]"
   ]
  },
  {
   "cell_type": "markdown",
   "id": "01d8ae9a",
   "metadata": {},
   "source": [
    "### matplotlib.pyplot as plt"
   ]
  },
  {
   "cell_type": "markdown",
   "id": "75e4a249",
   "metadata": {},
   "source": [
    "Official Documentation:\n",
    "\n",
    "> https://matplotlib.org/stable/api/pyplot_summary.html?highlight=pyplot"
   ]
  },
  {
   "cell_type": "markdown",
   "id": "a9c45972",
   "metadata": {},
   "source": [
    "    \"Pyplot is a Matplotlib module that provides a MATLAB like interface. Pyplot provides functions that interact with the figure i.e. creates a figure, decorates the plot with labels, creates plotting area in a figure.\" [12]\n",
    "    \n",
    "<br>"
   ]
  },
  {
   "cell_type": "markdown",
   "id": "038e06e2",
   "metadata": {},
   "source": [
    "Pyplot is a module of Matplotlib, it is through this module that you can easily plot your data. [13] Pyplot offers a \"shell-like interface\", which allows us to easily plot [3]\n",
    "\n",
    "Pyplot creates a figure, and then with additional commands plots data, labels and legends [14]"
   ]
  },
  {
   "cell_type": "code",
   "execution_count": 26,
   "id": "e92429c7",
   "metadata": {},
   "outputs": [],
   "source": [
    "import numpy as np                      # import NumPy - standard abbreviatation np\n",
    "import matplotlib.pyplot as plt         # import matplotlib.pyplot - standard abbreviatation plt"
   ]
  },
  {
   "cell_type": "markdown",
   "id": "daa11112",
   "metadata": {},
   "source": [
    "As outlined above Matplotlib is an object orientated application, and because if this you can plot by explicitly coding for the outcomes that you require - oject orientated style:"
   ]
  },
  {
   "cell_type": "code",
   "execution_count": 27,
   "id": "1e55f8db",
   "metadata": {},
   "outputs": [
    {
     "data": {
      "text/plain": [
       "<matplotlib.legend.Legend at 0x1b19b32ed30>"
      ]
     },
     "execution_count": 27,
     "metadata": {},
     "output_type": "execute_result"
    },
    {
     "data": {
      "image/png": "[encoded data removed]",
      "text/plain": [
       "<Figure size 432x288 with 1 Axes>"
      ]
     },
     "metadata": {
      "needs_background": "light"
     },
     "output_type": "display_data"
    }
   ],
   "source": [
    "x = np.linspace(0, 2, 100)              # Create the data\n",
    "\n",
    "# Note that even in the OO-style, we use `.pyplot.figure` to create the figure.\n",
    "\n",
    "fig, ax = plt.subplots()                # Create a figure and an axes with pyplot.subplots()\n",
    "ax.plot(x, x, label='Line One')         # Plot x on the axes - line one\n",
    "ax.plot(x, x**2, label='Line Two')      # Plot x**2 on the axes - line two\n",
    "ax.plot(x, x**3, label='Line Three')    # PLot x**3 on the axes - line three\n",
    "ax.set_xlabel('x label')                # Add an x-label to the axes.\n",
    "ax.set_ylabel('y label')                # Add a y-label to the axes.\n",
    "ax.set_title(\"Simple Plot\")             # Add title\n",
    "ax.legend()                             # Add a legend                                                               # [15]"
   ]
  },
  {
   "cell_type": "raw",
   "id": "ea92f107",
   "metadata": {},
   "source": [
    "Alternatively, you can complete the same process by using pyplot style:"
   ]
  },
  {
   "cell_type": "code",
   "execution_count": 28,
   "id": "05e8743f",
   "metadata": {},
   "outputs": [
    {
     "data": {
      "text/plain": [
       "<matplotlib.legend.Legend at 0x1b19b3cc1c0>"
      ]
     },
     "execution_count": 28,
     "metadata": {},
     "output_type": "execute_result"
    },
    {
     "data": {
      "image/png": "[encoded data removed]",
      "text/plain": [
       "<Figure size 432x288 with 1 Axes>"
      ]
     },
     "metadata": {
      "needs_background": "light"
     },
     "output_type": "display_data"
    }
   ],
   "source": [
    "x = np.linspace(0, 2, 100)              # Create the data\n",
    "\n",
    "plt.plot(x, x, label='Line 1')          # PLot x - with label\n",
    "plt.plot(x, x**2, label='Line 2')       # PLot x**2 - with label\n",
    "plt.plot(x, x**3, label='Line 3')       # PLot x**3 - with label\n",
    "plt.xlabel('x label')                   # Add name to X axis\n",
    "plt.ylabel('y label')                   # Add name to Y axis\n",
    "plt.title(\"Simple Plot\")                # Add title to the plot\n",
    "plt.legend()                            # Add a legend                                                                 # [15]"
   ]
  },
  {
   "cell_type": "markdown",
   "id": "0e75fe4e",
   "metadata": {},
   "source": [
    "**** more txt needed here"
   ]
  },
  {
   "cell_type": "markdown",
   "id": "bc87597d",
   "metadata": {},
   "source": [
    "****\n",
    "\n",
    "## Plotting\n",
    "\n",
    "***"
   ]
  },
  {
   "cell_type": "markdown",
   "id": "165846ff",
   "metadata": {},
   "source": [
    "### Bar Plot\n",
    "   "
   ]
  },
  {
   "cell_type": "markdown",
   "id": "2081d9c0",
   "metadata": {},
   "source": [
    "A Bar Plot:\n",
    "\n",
    "    \"shows the relationship between a numeric and a categoric variable. Each entity of the categoric variable is represented as a bar. The size of the bar represents its numeric value.\" [1]"
   ]
  },
  {
   "cell_type": "markdown",
   "id": "7f0b7cad",
   "metadata": {},
   "source": [
    "Barplots can be used when you want to show differences in values, or a distribution of values, it can show changes in a value over a number of years for example of compare the impact of different [actions](https://informationisbeautiful.net/visualizations/what-can-we-do-personally-to-reduce-emissions/). It is a a numeric variable shown across a category. \n",
    "\n",
    "Here are basic examples of both bar plots and of Horizontal Bar plots.\n",
    "\n",
    "You will notice from the code that only small changes are needed in order to move this from a Bar Plot to a Horizontal Bar plot.\n",
    "\n",
    "Further you will notice the use of axis and the importance of the axis in creating the chart and orientating the data within the chart. \n",
    "\n",
    "[1][2][3][4]"
   ]
  },
  {
   "cell_type": "code",
   "execution_count": 29,
   "id": "5c3a67c4",
   "metadata": {},
   "outputs": [
    {
     "data": {
      "text/plain": [
       "([<matplotlib.axis.XTick at 0x1b19b4315e0>,\n",
       "  <matplotlib.axis.XTick at 0x1b19b4315b0>,\n",
       "  <matplotlib.axis.XTick at 0x1b19b42e130>,\n",
       "  <matplotlib.axis.XTick at 0x1b19b45ab80>,\n",
       "  <matplotlib.axis.XTick at 0x1b19b4690d0>],\n",
       " [Text(0, 0, 'A'),\n",
       "  Text(1, 0, 'B'),\n",
       "  Text(2, 0, 'C'),\n",
       "  Text(3, 0, 'D'),\n",
       "  Text(4, 0, 'E')])"
      ]
     },
     "execution_count": 29,
     "metadata": {},
     "output_type": "execute_result"
    },
    {
     "data": {
      "image/png": "[encoded data removed]",
      "text/plain": [
       "<Figure size 432x288 with 1 Axes>"
      ]
     },
     "metadata": {
      "needs_background": "light"
     },
     "output_type": "display_data"
    }
   ],
   "source": [
    "# Make a random dataset:\n",
    "height = [10, 20, 30, 40, 50]        # set the height data\n",
    "bars = ('A', 'B', 'C', 'D', 'E')     # set the names of the bars\n",
    "y_pos = np.arange(len(bars))         # y position for ticks - length of bar\n",
    "\n",
    "\n",
    "plt.bar(y_pos, height)               # plot barplot \n",
    "\n",
    "plt.xticks(y_pos, bars)              # Create names on the x-axis \n",
    "\n",
    "#plt.show()                          # Show plot\n",
    "\n",
    "\n",
    "# I am leaving the full output and not showing just the chart                                                      #[5][7]"
   ]
  },
  {
   "cell_type": "code",
   "execution_count": 30,
   "id": "586da522",
   "metadata": {},
   "outputs": [
    {
     "data": {
      "text/plain": [
       "([<matplotlib.axis.YTick at 0x1b19b4912b0>,\n",
       "  <matplotlib.axis.YTick at 0x1b19b48ce80>,\n",
       "  <matplotlib.axis.YTick at 0x1b19b488cd0>,\n",
       "  <matplotlib.axis.YTick at 0x1b19b4b5fa0>,\n",
       "  <matplotlib.axis.YTick at 0x1b19b4c54f0>],\n",
       " [Text(0, 0, 'A'),\n",
       "  Text(0, 1, 'B'),\n",
       "  Text(0, 2, 'C'),\n",
       "  Text(0, 3, 'D'),\n",
       "  Text(0, 4, 'E')])"
      ]
     },
     "execution_count": 30,
     "metadata": {},
     "output_type": "execute_result"
    },
    {
     "data": {
      "image/png": "[encoded data removed]",
      "text/plain": [
       "<Figure size 432x288 with 1 Axes>"
      ]
     },
     "metadata": {
      "needs_background": "light"
     },
     "output_type": "display_data"
    }
   ],
   "source": [
    "# Make a random dataset:\n",
    "height = [10, 20, 30, 40, 50]        # set the height data\n",
    "bars = ('A', 'B', 'C', 'D', 'E')     # set the names of the bars\n",
    "y_pos = np.arange(len(bars))         # y position for ticks - length of bar\n",
    "\n",
    "\n",
    "plt.barh(y_pos, height)              # plot barploth - horizontal barchart\n",
    "\n",
    "plt.yticks(y_pos, bars)              # Create names on the y-axis\n",
    "\n",
    "#plt.show()                          # Show plot\n",
    "\n",
    "# I am leaving the full output and not showing just the chart\n",
    "# where when you compare the output to the above - the numbers are reversed\n",
    "# this shows how the data is plotted against each axis                                                               #[6][7]"
   ]
  },
  {
   "cell_type": "markdown",
   "id": "6469982f",
   "metadata": {},
   "source": [
    "When choosing any plot its important to choose the plot but also the plot layout which works best for the data you are presenting. The differences in the above graphs highlight this - \n",
    "\n",
    "- the top chart would be best to show an increase in profits for example\n",
    "\n",
    "- the bottom could be used to show the reduction in participation over age groups\n"
   ]
  },
  {
   "cell_type": "code",
   "execution_count": null,
   "id": "210bd966",
   "metadata": {},
   "outputs": [],
   "source": []
  },
  {
   "cell_type": "code",
   "execution_count": null,
   "id": "3abb2327",
   "metadata": {},
   "outputs": [],
   "source": []
  },
  {
   "cell_type": "code",
   "execution_count": null,
   "id": "0335d16c",
   "metadata": {},
   "outputs": [],
   "source": []
  },
  {
   "cell_type": "code",
   "execution_count": null,
   "id": "87f1e885",
   "metadata": {},
   "outputs": [],
   "source": []
  },
  {
   "cell_type": "code",
   "execution_count": null,
   "id": "55d2666a",
   "metadata": {},
   "outputs": [],
   "source": []
  },
  {
   "cell_type": "code",
   "execution_count": null,
   "id": "9f3c7475",
   "metadata": {},
   "outputs": [],
   "source": []
  },
  {
   "cell_type": "code",
   "execution_count": null,
   "id": "26cb969f",
   "metadata": {},
   "outputs": [],
   "source": []
  },
  {
   "cell_type": "code",
   "execution_count": null,
   "id": "ec10b785",
   "metadata": {},
   "outputs": [],
   "source": []
  },
  {
   "cell_type": "code",
   "execution_count": null,
   "id": "ce5c6968",
   "metadata": {},
   "outputs": [],
   "source": []
  },
  {
   "cell_type": "code",
   "execution_count": null,
   "id": "75cdb025",
   "metadata": {},
   "outputs": [],
   "source": []
  },
  {
   "cell_type": "code",
   "execution_count": null,
   "id": "d5e90621",
   "metadata": {},
   "outputs": [],
   "source": []
  },
  {
   "cell_type": "markdown",
   "id": "6009b39c",
   "metadata": {},
   "source": [
    "# Scatter and Scatter Masked\n",
    "\n",
    "### Scatter - \n",
    "\n",
    "> https://matplotlib.org/stable/gallery/shapes_and_collections/scatter.html\n",
    "\n",
    "\n",
    "### Masked Scatter - \n",
    "\n",
    "\n",
    "> https://matplotlib.org/stable/gallery/lines_bars_and_markers/scatter_masked.html#sphx-glr-gallery-lines-bars-and-markers-scatter-masked-py\n",
    "\n",
    "> https://www.includehelp.com/python/masked-scatter-plot.aspx\n",
    "\n",
    "> https://datasyndrome.com/post/67327023014/\n",
    "\n",
    "> https://numpy.org/doc/stable/reference/maskedarray.generic.html\n",
    "\n",
    "Or just scatter?"
   ]
  },
  {
   "cell_type": "code",
   "execution_count": null,
   "id": "54180e90",
   "metadata": {},
   "outputs": [],
   "source": []
  },
  {
   "cell_type": "code",
   "execution_count": null,
   "id": "0aaec0bc",
   "metadata": {},
   "outputs": [],
   "source": []
  },
  {
   "cell_type": "code",
   "execution_count": null,
   "id": "33884aa5",
   "metadata": {},
   "outputs": [],
   "source": []
  },
  {
   "cell_type": "markdown",
   "id": "33235ac7",
   "metadata": {},
   "source": [
    "<br>\n",
    "\n",
    "***\n",
    "\n",
    "## 3D Plots\n",
    "\n",
    "\n",
    "***\n",
    "\n",
    "\n",
    "> https://likegeeks.com/3d-plotting-in-python/\n",
    "\n",
    "> https://towardsdatascience.com/an-easy-introduction-to-3d-plotting-with-matplotlib-801561999725\n",
    "\n",
    "> https://matplotlib.org/stable/gallery/mplot3d/surface3d.html    (note the docs along the right hand side - review)"
   ]
  },
  {
   "cell_type": "code",
   "execution_count": null,
   "id": "864afece",
   "metadata": {},
   "outputs": [],
   "source": [
    "import matplotlib.pyplot as plt\n",
    "from mpl_toolkits.mplot3d import Axes3D\n",
    "\n",
    "\n",
    "\n",
    "fig = plt.figure(figsize=(4,4))\n",
    "\n",
    "ax = fig.add_subplot(111, projection='3d')\n",
    "\n"
   ]
  },
  {
   "cell_type": "code",
   "execution_count": null,
   "id": "6ba050d4",
   "metadata": {},
   "outputs": [],
   "source": [
    "import numpy as np\n",
    "\n",
    "x = np.linspace( -4*np.pi,4*np.pi,50)\n",
    "\n",
    "y = np.linspace( -4*np.pi,4*np.pi,50)\n",
    "\n",
    "z = x**2 + y**2\n",
    "\n",
    "fig = plt.figure()\n",
    "\n",
    "ax = fig.add_subplot(111, projection='3d')\n",
    "\n",
    "ax.plot(x,y,z)\n",
    "\n",
    "plt.show()\n"
   ]
  },
  {
   "cell_type": "code",
   "execution_count": null,
   "id": "ab0bb01d",
   "metadata": {},
   "outputs": [],
   "source": [
    "np.random.seed(42)\n",
    "\n",
    "xs = np.random.random(100)*10+20\n",
    "\n",
    "ys = np.random.random(100)*5+7\n",
    "\n",
    "zs = np.random.random(100)*15+50\n",
    "\n",
    "fig = plt.figure()\n",
    "\n",
    "ax = fig.add_subplot(111, projection='3d')\n",
    "\n",
    "ax.scatter(xs,ys,zs)\n",
    "\n",
    "plt.show()"
   ]
  },
  {
   "cell_type": "code",
   "execution_count": null,
   "id": "758a8ced",
   "metadata": {},
   "outputs": [],
   "source": [
    "from scipy.stats import multivariate_normal\n",
    "\n",
    "X = np.linspace(-5,5,50)\n",
    "\n",
    "Y = np.linspace(-5,5,50)\n",
    "\n",
    "X, Y = np.meshgrid(X,Y)\n",
    "\n",
    "X_mean = 0; Y_mean = 0\n",
    "\n",
    "X_var = 5; Y_var = 8\n",
    "\n",
    "pos = np.empty(X.shape+(2,))\n",
    "\n",
    "pos[:,:,0]=X\n",
    "\n",
    "pos[:,:,1]=Y\n",
    "\n",
    "rv = multivariate_normal([X_mean, Y_mean],[[X_var, 0], [0, Y_var]])\n",
    "\n",
    "fig = plt.figure()\n",
    "\n",
    "ax = fig.add_subplot(111, projection='3d')\n",
    "\n",
    "ax.plot_surface(X, Y, rv.pdf(pos), cmap=\"plasma\")\n",
    "\n",
    "plt.show()"
   ]
  },
  {
   "cell_type": "code",
   "execution_count": null,
   "id": "88e54a0c",
   "metadata": {},
   "outputs": [],
   "source": [
    "import matplotlib.pyplot as plt\n",
    "from matplotlib import cm\n",
    "from matplotlib.ticker import LinearLocator\n",
    "import numpy as np\n",
    "\n",
    "fig, ax = plt.subplots(subplot_kw={\"projection\": \"3d\"})\n",
    "\n",
    "# Make data.\n",
    "X = np.arange(-5, 5, 0.25)\n",
    "Y = np.arange(-5, 5, 0.25)\n",
    "X, Y = np.meshgrid(X, Y)\n",
    "R = np.sqrt(X**2 + Y**2)\n",
    "Z = np.sin(R)\n",
    "\n",
    "# Plot the surface.\n",
    "surf = ax.plot_surface(X, Y, Z, cmap=cm.coolwarm,\n",
    "                       linewidth=0, antialiased=False)\n",
    "\n",
    "# Customize the z axis.\n",
    "ax.set_zlim(-1.01, 1.01)\n",
    "ax.zaxis.set_major_locator(LinearLocator(10))\n",
    "# A StrMethodFormatter is used automatically\n",
    "ax.zaxis.set_major_formatter('{x:.02f}')\n",
    "\n",
    "# Add a color bar which maps values to colors.\n",
    "fig.colorbar(surf, shrink=0.5, aspect=5)\n",
    "\n",
    "plt.show()\n"
   ]
  },
  {
   "cell_type": "code",
   "execution_count": null,
   "id": "bb5cff95",
   "metadata": {},
   "outputs": [],
   "source": []
  },
  {
   "cell_type": "code",
   "execution_count": null,
   "id": "3a81d026",
   "metadata": {},
   "outputs": [],
   "source": []
  },
  {
   "cell_type": "code",
   "execution_count": null,
   "id": "636c0f7f",
   "metadata": {},
   "outputs": [],
   "source": []
  },
  {
   "cell_type": "code",
   "execution_count": null,
   "id": "236dd707",
   "metadata": {},
   "outputs": [],
   "source": []
  },
  {
   "cell_type": "code",
   "execution_count": null,
   "id": "704b52e0",
   "metadata": {},
   "outputs": [],
   "source": []
  },
  {
   "cell_type": "code",
   "execution_count": null,
   "id": "ea3da222",
   "metadata": {},
   "outputs": [],
   "source": []
  },
  {
   "cell_type": "code",
   "execution_count": null,
   "id": "e8c40157",
   "metadata": {},
   "outputs": [],
   "source": []
  },
  {
   "cell_type": "markdown",
   "id": "a906645f",
   "metadata": {},
   "source": [
    "Python can be viewed as an accessable programming language with an ever increasing and improving list of addition librarys, modules or addins. [2]\n",
    "\n",
    "NumPy is the fundamental numerical library for Python, built on top of this library are additionl addins that allow users to work with different data structures and also plot data. [3]\n",
    "\n",
    "Matplotlib is the beginning point for plotting librarys. Matplotlib can plot data from NumPy, Pandas and from Scipy. From Matplotlib you can also work with seaborn. [4]\n",
    "\n",
    "Pandas can also be used with MAtplotlib, however unlike Numpy is is not a required package, "
   ]
  },
  {
   "cell_type": "code",
   "execution_count": null,
   "id": "38570e66",
   "metadata": {},
   "outputs": [],
   "source": []
  }
 ],
 "metadata": {
  "kernelspec": {
   "display_name": "Python 3",
   "language": "python",
   "name": "python3"
  },
  "language_info": {
   "codemirror_mode": {
    "name": "ipython",
    "version": 3
   },
   "file_extension": ".py",
   "mimetype": "text/x-python",
   "name": "python",
   "nbconvert_exporter": "python",
   "pygments_lexer": "ipython3",
   "version": "3.8.8"
  }
 },
 "nbformat": 4,
 "nbformat_minor": 5
}
