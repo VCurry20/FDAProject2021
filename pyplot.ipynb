{
 "cells": [
  {
   "cell_type": "markdown",
   "id": "0a2f4b38-9aef-47d1-a907-847ca22c7f2a",
   "metadata": {},
   "source": [
    "overview of the package and what it can do\n",
    "other imports\n",
    "\n",
    "build up code and different visual outcomes\n",
    "step by step changes to code to show the differences?\n",
    "three main plots needed"
   ]
  }
 ],
 "metadata": {
  "kernelspec": {
   "display_name": "Python 3",
   "language": "python",
   "name": "python3"
  },
  "language_info": {
   "codemirror_mode": {
    "name": "ipython",
    "version": 3
   },
   "file_extension": ".py",
   "mimetype": "text/x-python",
   "name": "python",
   "nbconvert_exporter": "python",
   "pygments_lexer": "ipython3",
   "version": "3.8.8"
  }
 },
 "nbformat": 4,
 "nbformat_minor": 5
}
