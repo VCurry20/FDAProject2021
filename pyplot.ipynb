{
 "cells": [
  {
   "cell_type": "markdown",
   "id": "01b87f9b",
   "metadata": {},
   "source": [
    "# Matplotlib"
   ]
  },
  {
   "cell_type": "markdown",
   "id": "f66c8093",
   "metadata": {},
   "source": [
    "****\n",
    "\n",
    "This is a Jupyter Notebook providing an overview of Matplotlib.pyplot, focusing on three plots:\n",
    "\n",
    "\n",
    "> Outline Matplotlib.pyplot\n",
    "\n",
    "> Plotting  \n",
    "\n",
    ">> Plot1  \n",
    "  \n",
    ">> PLot2  \n",
    "  \n",
    ">> PLot3 \n",
    "  \n",
    "****"
   ]
  },
  {
   "cell_type": "markdown",
   "id": "9c894d42",
   "metadata": {},
   "source": [
    "clear and concise overview of matplotlib.pyplot package - pitched at classmats 15%\n",
    "\n",
    "An indept explaination of three interesting plots from the matplotlib.pyplot python package. 25%\n"
   ]
  },
  {
   "cell_type": "markdown",
   "id": "8c759c0f",
   "metadata": {},
   "source": [
    "****\n",
    "\n",
    "## Matplotlib\n",
    "\n",
    "***"
   ]
  },
  {
   "cell_type": "markdown",
   "id": "ebf0dda9",
   "metadata": {},
   "source": [
    "<div class=\"alert alert-block alert-info\">\n",
    "<b>Code:</b> import matplotlib.pyplot as plt\n",
    "\n",
    "</div>"
   ]
  },
  {
   "cell_type": "markdown",
   "id": "0a2f4b38-9aef-47d1-a907-847ca22c7f2a",
   "metadata": {},
   "source": [
    "    \"Matplotlib is a plotting library for the Python programming language and its numerical mathematics extension NumPy.\""
   ]
  },
  {
   "cell_type": "markdown",
   "id": "bc4b2452-8c3c-4007-bc60-57c44c94bd8f",
   "metadata": {},
   "source": [
    "                                                                                                                        [1]"
   ]
  },
  {
   "cell_type": "markdown",
   "id": "097511f9",
   "metadata": {},
   "source": [
    "Python can be viewed as an accessable programming language with an ever increasing and improving list of addition librarys, modules or addins. [2]\n",
    "\n",
    "NumPy is the fundamental numerical library for Python, built on top of this library are additionl addins that allow users to work with different data structures and also plot data. [3]\n",
    "\n",
    "Matplotlib is the beginning point for plotting librarys. Matplotlib can plot data from NumPy, Pandas and from Scipy. From Matplotlib you can also work with seaborn. [4]\n",
    "\n",
    "\n",
    "\n"
   ]
  },
  {
   "cell_type": "code",
   "execution_count": 1,
   "id": "6b3c9bd8-8472-42af-b9c2-1ff3b3bac175",
   "metadata": {},
   "outputs": [],
   "source": [
    "import numpy as np\n",
    "import matplotlib.pyplot as plt"
   ]
  },
  {
   "cell_type": "code",
   "execution_count": null,
   "id": "6f2d5ee6",
   "metadata": {},
   "outputs": [],
   "source": []
  }
 ],
 "metadata": {
  "kernelspec": {
   "display_name": "Python 3",
   "language": "python",
   "name": "python3"
  },
  "language_info": {
   "codemirror_mode": {
    "name": "ipython",
    "version": 3
   },
   "file_extension": ".py",
   "mimetype": "text/x-python",
   "name": "python",
   "nbconvert_exporter": "python",
   "pygments_lexer": "ipython3",
   "version": "3.8.8"
  }
 },
 "nbformat": 4,
 "nbformat_minor": 5
}
