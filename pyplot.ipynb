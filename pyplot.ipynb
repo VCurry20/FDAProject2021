{
 "cells": [
  {
   "cell_type": "markdown",
   "id": "0a2f4b38-9aef-47d1-a907-847ca22c7f2a",
   "metadata": {},
   "source": [
    "overview of the package and what it can do\n",
    "other imports\n",
    "\n",
    "build up code and different visual outcomes\n",
    "step by step changes to code to show the differences?\n",
    "three main plots needed"
   ]
  },
  {
   "cell_type": "markdown",
   "id": "bc4b2452-8c3c-4007-bc60-57c44c94bd8f",
   "metadata": {},
   "source": [
    "clear and concise overview of matplotlib.pyplot package - pitched at classmats 15%\n",
    "\n",
    "An indept explaination of three interesting plots from the matplotlib.pyplot python package. 25%\n"
   ]
  },
  {
   "cell_type": "markdown",
   "id": "097511f9",
   "metadata": {},
   "source": [
    "Possible Headings\n",
    "\n",
    "> Overview\n",
    "\n",
    "> Python\n",
    "\n",
    "> Pandas\n",
    "\n",
    "> 3 Plots \n",
    "\n",
    "> References"
   ]
  },
  {
   "cell_type": "code",
   "execution_count": 1,
   "id": "6b3c9bd8-8472-42af-b9c2-1ff3b3bac175",
   "metadata": {},
   "outputs": [],
   "source": [
    "import numpy as np\n",
    "import matplotlib.pyplot as plt"
   ]
  },
  {
   "cell_type": "code",
   "execution_count": null,
   "id": "6f2d5ee6",
   "metadata": {},
   "outputs": [],
   "source": []
  }
 ],
 "metadata": {
  "kernelspec": {
   "display_name": "Python 3",
   "language": "python",
   "name": "python3"
  },
  "language_info": {
   "codemirror_mode": {
    "name": "ipython",
    "version": 3
   },
   "file_extension": ".py",
   "mimetype": "text/x-python",
   "name": "python",
   "nbconvert_exporter": "python",
   "pygments_lexer": "ipython3",
   "version": "3.8.8"
  }
 },
 "nbformat": 4,
 "nbformat_minor": 5
}
