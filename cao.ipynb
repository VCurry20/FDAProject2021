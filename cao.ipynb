{
 "cells": [
  {
   "cell_type": "markdown",
   "id": "3d19ed85-4b36-4fce-8c5c-d25ed0a51414",
   "metadata": {},
   "source": [
    "clear and concise overview of ow to load CAO points info from the CAO website into a pandas data frame - pitched at classmates 10%\n",
    "\n",
    "detailed comparision of cao points 2019,2020, and 2021 using the functionality in pandas 20%\n",
    "\n",
    "appropriate plots and other visualisations to enhance your notebook 10%\n",
    "\n"
   ]
  },
  {
   "cell_type": "code",
   "execution_count": null,
   "id": "a58b6857-665e-4cde-8b45-3ac179fda220",
   "metadata": {},
   "outputs": [],
   "source": []
  }
 ],
 "metadata": {
  "kernelspec": {
   "display_name": "Python 3",
   "language": "python",
   "name": "python3"
  },
  "language_info": {
   "codemirror_mode": {
    "name": "ipython",
    "version": 3
   },
   "file_extension": ".py",
   "mimetype": "text/x-python",
   "name": "python",
   "nbconvert_exporter": "python",
   "pygments_lexer": "ipython3",
   "version": "3.8.8"
  }
 },
 "nbformat": 4,
 "nbformat_minor": 5
}
