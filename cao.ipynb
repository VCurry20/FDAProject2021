{
 "cells": [
  {
   "cell_type": "markdown",
   "id": "3d19ed85-4b36-4fce-8c5c-d25ed0a51414",
   "metadata": {},
   "source": [
    "clear and concise overview of how to load CAO points info from the CAO website into a pandas data frame - pitched at classmates 10%\n",
    "\n",
    "detailed comparision of cao points 2019,2020, and 2021 using the functionality in pandas 20%\n",
    "\n",
    "appropriate plots and other visualisations to enhance your notebook 10%\n",
    "\n"
   ]
  },
  {
   "cell_type": "markdown",
   "id": "b567974f",
   "metadata": {},
   "source": [
    "Possible Headings\n",
    "\n",
    "> Overview\n",
    "\n",
    "> Purpose\n",
    "\n",
    "> Programs & Packages\n",
    "\n",
    "> Actual Process\n",
    "\n",
    "> Plots\n",
    "\n",
    "> References\n"
   ]
  },
  {
   "cell_type": "code",
   "execution_count": 1,
   "id": "2ed520b5",
   "metadata": {},
   "outputs": [],
   "source": [
    "import numpy as np\n",
    "import pandas as pd\n",
    "import matplotlib.pyplot as plt"
   ]
  },
  {
   "cell_type": "markdown",
   "id": "0b3ba4b8",
   "metadata": {},
   "source": [
    "in this - import the data as a csv file\n",
    "   "
   ]
  },
  {
   "cell_type": "markdown",
   "id": "85b47b27",
   "metadata": {},
   "source": [
    "    prep the data"
   ]
  },
  {
   "cell_type": "code",
   "execution_count": null,
   "id": "a24f2463",
   "metadata": {},
   "outputs": [],
   "source": []
  }
 ],
 "metadata": {
  "kernelspec": {
   "display_name": "Python 3",
   "language": "python",
   "name": "python3"
  },
  "language_info": {
   "codemirror_mode": {
    "name": "ipython",
    "version": 3
   },
   "file_extension": ".py",
   "mimetype": "text/x-python",
   "name": "python",
   "nbconvert_exporter": "python",
   "pygments_lexer": "ipython3",
   "version": "3.8.8"
  }
 },
 "nbformat": 4,
 "nbformat_minor": 5
}
