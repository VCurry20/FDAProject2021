{
 "cells": [
  {
   "cell_type": "markdown",
   "id": "ab902c5a",
   "metadata": {},
   "source": [
    "# CAO Points Analysis "
   ]
  },
  {
   "cell_type": "markdown",
   "id": "3d19ed85-4b36-4fce-8c5c-d25ed0a51414",
   "metadata": {},
   "source": [
    "In this Jupyter notebook I will include the following as per the assignment brief:\n",
    "\n",
    "> clear and concise overview of how to load CAO points info from the CAO website into a pandas data frame - pitched at classmates 10%\n",
    "\n",
    "> detailed comparision of cao points 2019,2020, and 2021 using the functionality in pandas 20%\n",
    "\n",
    "> appropriate plots and other visualisations to enhance your notebook 10%\n"
   ]
  },
  {
   "cell_type": "markdown",
   "id": "b567974f",
   "metadata": {},
   "source": [
    "*****\n",
    "\n",
    "Possible Headings\n",
    "\n",
    "> Imported Modules\n",
    "\n",
    "> CAO 2021\n",
    "\n",
    "> CAO 2020\n",
    "\n",
    "> CAO 2019\n",
    "\n",
    "> Plots\n",
    "\n",
    "> References\n",
    "\n",
    "*****\n"
   ]
  },
  {
   "cell_type": "markdown",
   "id": "e293bbaf",
   "metadata": {},
   "source": [
    "## Importing Modules\n",
    "\n",
    "****"
   ]
  },
  {
   "cell_type": "code",
   "execution_count": 9,
   "id": "e8f906f4",
   "metadata": {},
   "outputs": [],
   "source": [
    "# The following are the list of modules we will use in this notebook\n",
    "\n",
    "\n",
    "import requests as rq                  # used to request data from HTTP site\n",
    "import datetime as dt                  # used to set date and time to save file\n",
    "import re                              # This is for compiliing regular expressions\n",
    "import numpy as np                     # mathimatical Component of Python\n",
    "import pandas as pd                    # used for Data Frame compilation\n",
    "import matplotlib.pyplot as plt        # used to plot data from COA points files"
   ]
  },
  {
   "cell_type": "markdown",
   "id": "df0f84ab",
   "metadata": {},
   "source": [
    "## COA 2021 \n",
    "\n",
    "****\n",
    "\n",
    "- This data is in HTML format - http://www2.cao.ie/points/l8.php\n",
    "\n",
    "- In order to work with this data we will need to take a copy from HTML format\n",
    "\n",
    "- We will save an original copy of the data\n",
    "\n",
    "- We will then extract from this HTML page the data we require\n",
    "\n",
    "- We will then save a copy\n",
    "\n",
    "- From this copy we will then make a data frame using Pandas and Analyise the Data\n",
    "\n",
    "(Note: The data format has now been changed on the CAO Site - it is now available in spreadsheet format - Excel)\n",
    "\n",
    "***\n",
    "\n",
    "<br>"
   ]
  },
  {
   "cell_type": "markdown",
   "id": "1227a237",
   "metadata": {},
   "source": [
    "### Getting the Data\n",
    "\n",
    "***"
   ]
  },
  {
   "cell_type": "code",
   "execution_count": 10,
   "id": "e12e6439",
   "metadata": {},
   "outputs": [
    {
     "data": {
      "text/plain": [
       "<Response [200]>"
      ]
     },
     "execution_count": 10,
     "metadata": {},
     "output_type": "execute_result"
    }
   ],
   "source": [
    "# get the CAO data from the site using the requests module\n",
    "\n",
    "resp = rq.get('http://www2.cao.ie/points/l8.php')  # resp is the variable for the data from this site\n",
    "\n",
    "\n",
    "\n",
    "# We can now review the data:\n",
    "\n",
    "# 200 means this data has been found at this location\n",
    "# 404 would mean it is not found\n",
    "\n",
    "resp  "
   ]
  },
  {
   "cell_type": "code",
   "execution_count": 11,
   "id": "11d16e6a",
   "metadata": {},
   "outputs": [
    {
     "data": {
      "text/plain": [
       "'iso-8859-1'"
      ]
     },
     "execution_count": 11,
     "metadata": {},
     "output_type": "execute_result"
    }
   ],
   "source": [
    "resp.encoding  # this is infact incorrect"
   ]
  },
  {
   "cell_type": "markdown",
   "id": "7e8b82de",
   "metadata": {},
   "source": [
    "Note:\n",
    "\n",
    "This encoding is infact incorrect - although iso-8859-1 is an example of extended Ascii and includes letters with Fadas etc it does not cover all of the text figures included in the data.\n",
    "\n",
    "There is emdashes included in the HTTP site and for this reason we need an encoding that includes these figures.\n",
    "\n",
    "For this reason we need to encode to cp1252, which covers endash and emdashs. \n",
    "\n",
    "We found this error when printing out the data from the site, there was a box with a ? inside"
   ]
  },
  {
   "cell_type": "markdown",
   "id": "022e9e0a",
   "metadata": {},
   "source": [
    "### Save Copy of Original Data\n",
    "\n",
    "***"
   ]
  },
  {
   "cell_type": "code",
   "execution_count": 12,
   "id": "ea22edc8",
   "metadata": {},
   "outputs": [],
   "source": [
    "now = dt.datetime.now()                  # set variable now as they date and time it is now\n",
    "\n",
    "nowstr = now.strftime('%y%m%d_%H%M%S')   # nowstr = is a reordered version of this output\n",
    "\n",
    "resp.encoding = 'cp1252'                 # encode to cp1252 not iso-8859-1\n",
    "\n",
    "path = 'Data/cao2021_' + now.strftime('%y%m%d_%H%M%S') + '.html'  # save a HTML file with this name to the data file\n",
    "\n",
    "with open (path, 'w') as f:   # open a \"writable\" version\n",
    "    f.write(resp.text)        "
   ]
  },
  {
   "cell_type": "markdown",
   "id": "4f4f6b33",
   "metadata": {},
   "source": [
    "### Extract the Required Lines\n",
    "\n",
    "***"
   ]
  },
  {
   "cell_type": "code",
   "execution_count": 5,
   "id": "6229608f",
   "metadata": {},
   "outputs": [],
   "source": [
    "# here we are using regular expressions to extract from the file the lines of data we need\n",
    "\n",
    "#re_course = re.compile(r'([A-Z]{2}[0-9]{3})  (.*)([^\"])(\\*?) *')  \n",
    "\n",
    "# re_course = re.compile(r'([A-Z]{2}[0-9]{3})  (.*)([0-9]{3})(\\*?) *')  # Ian's version\n"
   ]
  },
  {
   "cell_type": "code",
   "execution_count": 6,
   "id": "39417896",
   "metadata": {},
   "outputs": [
    {
     "ename": "NameError",
     "evalue": "name 're_course' is not defined",
     "output_type": "error",
     "traceback": [
      "\u001b[1;31m---------------------------------------------------------------------------\u001b[0m",
      "\u001b[1;31mNameError\u001b[0m                                 Traceback (most recent call last)",
      "\u001b[1;32m<ipython-input-6-d29a73b0ea05>\u001b[0m in \u001b[0;36m<module>\u001b[1;34m\u001b[0m\n\u001b[0;32m      7\u001b[0m         \u001b[0mdline\u001b[0m \u001b[1;33m=\u001b[0m \u001b[0mline\u001b[0m\u001b[1;33m.\u001b[0m\u001b[0mdecode\u001b[0m\u001b[1;33m(\u001b[0m\u001b[1;34m'cp1252'\u001b[0m\u001b[1;33m)\u001b[0m\u001b[1;33m\u001b[0m\u001b[1;33m\u001b[0m\u001b[0m\n\u001b[0;32m      8\u001b[0m \u001b[1;33m\u001b[0m\u001b[0m\n\u001b[1;32m----> 9\u001b[1;33m         \u001b[1;32mif\u001b[0m \u001b[0mre_course\u001b[0m\u001b[1;33m.\u001b[0m\u001b[0mfullmatch\u001b[0m\u001b[1;33m(\u001b[0m\u001b[0mdline\u001b[0m\u001b[1;33m)\u001b[0m\u001b[1;33m:\u001b[0m\u001b[1;33m\u001b[0m\u001b[1;33m\u001b[0m\u001b[0m\n\u001b[0m\u001b[0;32m     10\u001b[0m             \u001b[0mno_lines\u001b[0m \u001b[1;33m=\u001b[0m \u001b[0mno_lines\u001b[0m \u001b[1;33m+\u001b[0m \u001b[1;36m1\u001b[0m\u001b[1;33m\u001b[0m\u001b[1;33m\u001b[0m\u001b[0m\n\u001b[0;32m     11\u001b[0m             \u001b[0mlinesplit\u001b[0m \u001b[1;33m=\u001b[0m \u001b[0mre\u001b[0m\u001b[1;33m.\u001b[0m\u001b[0msplit\u001b[0m\u001b[1;33m(\u001b[0m\u001b[1;34m'  +'\u001b[0m\u001b[1;33m,\u001b[0m \u001b[0mdline\u001b[0m\u001b[1;33m)\u001b[0m\u001b[1;33m\u001b[0m\u001b[1;33m\u001b[0m\u001b[0m\n",
      "\u001b[1;31mNameError\u001b[0m: name 're_course' is not defined"
     ]
    }
   ],
   "source": [
    "path = 'Data/cao2021test_csv_' + nowstr + '.csv'\n",
    "\n",
    "no_lines = 0\n",
    "\n",
    "with open(path, 'w') as f:\n",
    "    for line in resp.iter_lines():\n",
    "        dline = line.decode('cp1252')\n",
    "\n",
    "        if re_course.fullmatch(dline):\n",
    "            no_lines = no_lines + 1             \n",
    "            linesplit = re.split('  +', dline)\n",
    "            f.write(\",\".join(linesplit) + '\\n')\n",
    "            \n",
    "        \n",
    "print(f\"Total number of lines is {no_lines}.\") "
   ]
  },
  {
   "cell_type": "code",
   "execution_count": null,
   "id": "295a492d",
   "metadata": {},
   "outputs": [],
   "source": []
  },
  {
   "cell_type": "code",
   "execution_count": null,
   "id": "dd60fbf4",
   "metadata": {},
   "outputs": [],
   "source": []
  },
  {
   "cell_type": "code",
   "execution_count": null,
   "id": "d6b0ddf7",
   "metadata": {},
   "outputs": [],
   "source": []
  },
  {
   "cell_type": "code",
   "execution_count": null,
   "id": "088986ce",
   "metadata": {},
   "outputs": [],
   "source": []
  },
  {
   "cell_type": "code",
   "execution_count": null,
   "id": "03f52f42",
   "metadata": {},
   "outputs": [],
   "source": []
  },
  {
   "cell_type": "code",
   "execution_count": null,
   "id": "31eb19c6",
   "metadata": {},
   "outputs": [],
   "source": []
  },
  {
   "cell_type": "markdown",
   "id": "b80aab3b",
   "metadata": {},
   "source": [
    "\n",
    "# notes to Do  / Fix\n",
    "\n",
    "For the above - lines starting with B are the orignal website data. This output is because of the print(line) command. This can be #'d so it doesnt show. When we do show it however it give us the chance to compare what we have inputted against what we have outputted.\n",
    "\n",
    "\n",
    "\n",
    "In the regular expression code we have broken up the parts by using () brackets - if you count this you will see there are 4 sets. These 4 sets correspond to the r'\\1,\\2,\\3,\\4 - this allows up to format the csv in the way we want.\n",
    "\n",
    "\n",
    "For places where there is two sets of points we are pulling in the data in the incorrect line\n",
    "\n",
    "remove * and # from file\n",
    "\n",
    "\n",
    "write file using line splitting to make file"
   ]
  },
  {
   "cell_type": "markdown",
   "id": "2409f3fb",
   "metadata": {},
   "source": []
  },
  {
   "cell_type": "code",
   "execution_count": null,
   "id": "df919897",
   "metadata": {},
   "outputs": [],
   "source": []
  },
  {
   "cell_type": "code",
   "execution_count": null,
   "id": "7ba3fc3b",
   "metadata": {},
   "outputs": [],
   "source": []
  }
 ],
 "metadata": {
  "kernelspec": {
   "display_name": "Python 3",
   "language": "python",
   "name": "python3"
  },
  "language_info": {
   "codemirror_mode": {
    "name": "ipython",
    "version": 3
   },
   "file_extension": ".py",
   "mimetype": "text/x-python",
   "name": "python",
   "nbconvert_exporter": "python",
   "pygments_lexer": "ipython3",
   "version": "3.8.8"
  }
 },
 "nbformat": 4,
 "nbformat_minor": 5
}
