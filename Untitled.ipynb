{
 "cells": [
  {
   "cell_type": "code",
   "execution_count": 1,
   "id": "08be3ded",
   "metadata": {},
   "outputs": [],
   "source": [
    "import numpy as np                      # import NumPy - standard abbreviatation np\n",
    "import matplotlib.pyplot as plt         # import matplotlib.pyplot - standard abbreviatation plt"
   ]
  },
  {
   "cell_type": "code",
   "execution_count": 5,
   "id": "a5062422",
   "metadata": {},
   "outputs": [
    {
     "data": {
      "text/plain": [
       "([<matplotlib.axis.XTick at 0x1b8f13ca580>,\n",
       "  <matplotlib.axis.XTick at 0x1b8f3db2550>,\n",
       "  <matplotlib.axis.XTick at 0x1b8f3db00d0>,\n",
       "  <matplotlib.axis.XTick at 0x1b8f3ddeb50>,\n",
       "  <matplotlib.axis.XTick at 0x1b8f3deb0a0>],\n",
       " [Text(0, 0, 'A'),\n",
       "  Text(1, 0, 'B'),\n",
       "  Text(2, 0, 'C'),\n",
       "  Text(3, 0, 'D'),\n",
       "  Text(4, 0, 'E')])"
      ]
     },
     "execution_count": 5,
     "metadata": {},
     "output_type": "execute_result"
    },
    {
     "data": {
      "image/png": "[encoded data removed]",
      "text/plain": [
       "<Figure size 432x288 with 1 Axes>"
      ]
     },
     "metadata": {
      "needs_background": "light"
     },
     "output_type": "display_data"
    }
   ],
   "source": [
    "# Make a random dataset:\n",
    "height = [10, 20, 30, 40, 50]        # set the height data\n",
    "bars = ('A', 'B', 'C', 'D', 'E')     # set the names of the bars\n",
    "y_pos = np.arange(len(bars))         #\n",
    "\n",
    "\n",
    "plt.bar(y_pos, height)               # plot barplot\n",
    "\n",
    "plt.xticks(y_pos, bars)              # Create names on the x-axis\n",
    "\n",
    "#plt.show()                           # Show graphic"
   ]
  },
  {
   "cell_type": "code",
   "execution_count": null,
   "id": "0c0e09ef",
   "metadata": {},
   "outputs": [],
   "source": []
  },
  {
   "cell_type": "code",
   "execution_count": null,
   "id": "6fa781e8",
   "metadata": {},
   "outputs": [],
   "source": []
  },
  {
   "cell_type": "code",
   "execution_count": null,
   "id": "64eb367f",
   "metadata": {},
   "outputs": [],
   "source": []
  },
  {
   "cell_type": "code",
   "execution_count": null,
   "id": "27ed71ed",
   "metadata": {},
   "outputs": [],
   "source": []
  },
  {
   "cell_type": "code",
   "execution_count": null,
   "id": "9ceac270",
   "metadata": {},
   "outputs": [],
   "source": []
  },
  {
   "cell_type": "code",
   "execution_count": null,
   "id": "4e9a0e1e",
   "metadata": {},
   "outputs": [],
   "source": []
  },
  {
   "cell_type": "code",
   "execution_count": null,
   "id": "76ce5a57",
   "metadata": {},
   "outputs": [],
   "source": []
  }
 ],
 "metadata": {
  "kernelspec": {
   "display_name": "Python 3",
   "language": "python",
   "name": "python3"
  },
  "language_info": {
   "codemirror_mode": {
    "name": "ipython",
    "version": 3
   },
   "file_extension": ".py",
   "mimetype": "text/x-python",
   "name": "python",
   "nbconvert_exporter": "python",
   "pygments_lexer": "ipython3",
   "version": "3.8.8"
  }
 },
 "nbformat": 4,
 "nbformat_minor": 5
}
